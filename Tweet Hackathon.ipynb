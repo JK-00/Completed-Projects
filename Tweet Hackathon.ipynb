{
 "cells": [
  {
   "cell_type": "markdown",
   "metadata": {},
   "source": [
    "### Import libraries"
   ]
  },
  {
   "cell_type": "code",
   "execution_count": 1,
   "metadata": {},
   "outputs": [],
   "source": [
    "import tweepy\n",
    "import csv\n",
    "import pandas as pd\n",
    "import re\n",
    "import emoji\n",
    "import nltk\n",
    "import string\n",
    "import numpy as np"
   ]
  },
  {
   "cell_type": "code",
   "execution_count": 2,
   "metadata": {},
   "outputs": [],
   "source": [
    "# Original\n",
    "df0 = pd.read_csv(\"train_basic.csv\")\n",
    "# Train\n",
    "df = pd.read_csv(\"train_basic.csv\")\n",
    "# Test\n",
    "df2 = pd.read_csv(\"test_basic.csv\")\n",
    "\n",
    "# List of unique labels\n",
    "tags = list(df['label'].unique())"
   ]
  },
  {
   "cell_type": "code",
   "execution_count": 3,
   "metadata": {},
   "outputs": [
    {
     "data": {
      "text/html": [
       "<div>\n",
       "<style scoped>\n",
       "    .dataframe tbody tr th:only-of-type {\n",
       "        vertical-align: middle;\n",
       "    }\n",
       "\n",
       "    .dataframe tbody tr th {\n",
       "        vertical-align: top;\n",
       "    }\n",
       "\n",
       "    .dataframe thead th {\n",
       "        text-align: right;\n",
       "    }\n",
       "</style>\n",
       "<table border=\"1\" class=\"dataframe\">\n",
       "  <thead>\n",
       "    <tr style=\"text-align: right;\">\n",
       "      <th></th>\n",
       "      <th>tweet</th>\n",
       "      <th>label</th>\n",
       "    </tr>\n",
       "  </thead>\n",
       "  <tbody>\n",
       "    <tr>\n",
       "      <th>0</th>\n",
       "      <td>silencing blm : priti patel\\xe2\\x80\\x99s anti-...</td>\n",
       "      <td>BLM</td>\n",
       "    </tr>\n",
       "    <tr>\n",
       "      <th>1</th>\n",
       "      <td>trillian42_ johnbok5 nadiawhittomemp \"\\'silly ...</td>\n",
       "      <td>BLM</td>\n",
       "    </tr>\n",
       "    <tr>\n",
       "      <th>2</th>\n",
       "      <td>rt errolwebber: tell me, would this be conside...</td>\n",
       "      <td>BLM</td>\n",
       "    </tr>\n",
       "    <tr>\n",
       "      <th>3</th>\n",
       "      <td>apple won't let parler have an app but still k...</td>\n",
       "      <td>BLM</td>\n",
       "    </tr>\n",
       "    <tr>\n",
       "      <th>4</th>\n",
       "      <td>malika_andrews wojespn can we get jlm trending...</td>\n",
       "      <td>BLM</td>\n",
       "    </tr>\n",
       "  </tbody>\n",
       "</table>\n",
       "</div>"
      ],
      "text/plain": [
       "                                               tweet label\n",
       "0  silencing blm : priti patel\\xe2\\x80\\x99s anti-...   BLM\n",
       "1  trillian42_ johnbok5 nadiawhittomemp \"\\'silly ...   BLM\n",
       "2  rt errolwebber: tell me, would this be conside...   BLM\n",
       "3  apple won't let parler have an app but still k...   BLM\n",
       "4  malika_andrews wojespn can we get jlm trending...   BLM"
      ]
     },
     "execution_count": 3,
     "metadata": {},
     "output_type": "execute_result"
    }
   ],
   "source": [
    "df.head()"
   ]
  },
  {
   "cell_type": "code",
   "execution_count": 4,
   "metadata": {},
   "outputs": [],
   "source": [
    "# Drop NaN\n",
    "df.dropna(inplace=True)\n",
    "\n",
    "#Removes Punctuation\n",
    "df['tweet'] = df['tweet'].apply(lambda x: re.sub('[!@#$:).;,?&]', '', str(x)))\n",
    "df['tweet'] = df['tweet'].apply(lambda x: re.sub('[!@#$:).;,?&]', '', str(x)))\n",
    "#Removes hyperlinks\n",
    "df['tweet'] = df['tweet'].apply(lambda x: re.sub(r'http\\S+', '', str(x)))\n",
    "#Remove newlines\n",
    "df['tweet'] = df['tweet'].apply(lambda x: x.strip().replace('\\\\n', ''))\n",
    "#Remove encoded characters\n",
    "df['tweet'] = df['tweet'].apply(lambda x: re.sub(r'(\\\\x(.){2})', '', str(x)))\n",
    "#Removes ' , \", and blank space\n",
    "df['tweet'] = df['tweet'].apply(lambda x: x.replace(\"'\", \"\"))\n",
    "df['tweet'] = df['tweet'].apply(lambda x: x.replace('\"', \"\"))\n",
    "df['tweet'] = df['tweet'].apply(lambda x: x.strip())\n",
    "#Remove escape charcters but keep emoji codes\n",
    "df['tweet'] = df['tweet'].apply(lambda x: re.sub(\"\\\\\\\\\", '', str(x)))\n",
    "# Remove 'rt', retweet string. Remove newline character\n",
    "df['tweet'] = df['tweet'].apply(lambda x: x.strip(\"rt \").replace('\\n', ''))\n",
    "\n",
    "# Remove punctuation again, remove hyphens\n",
    "exclude = set(string.punctuation)\n",
    "df['tweet'] = df['tweet'].apply(lambda x: ''.join(ch for ch in x if ch not in exclude))"
   ]
  },
  {
   "cell_type": "markdown",
   "metadata": {},
   "source": [
    "### Tokenize words"
   ]
  },
  {
   "cell_type": "code",
   "execution_count": 5,
   "metadata": {},
   "outputs": [],
   "source": [
    "from nltk import word_tokenize"
   ]
  },
  {
   "cell_type": "code",
   "execution_count": 6,
   "metadata": {},
   "outputs": [],
   "source": [
    "df['token'] = df['tweet'].apply(word_tokenize)"
   ]
  },
  {
   "cell_type": "code",
   "execution_count": 7,
   "metadata": {},
   "outputs": [
    {
     "data": {
      "text/plain": [
       "['silencing',\n",
       " 'blm',\n",
       " 'priti',\n",
       " 'patels',\n",
       " 'antiprotest',\n",
       " 'law',\n",
       " 'iandunt',\n",
       " 'on',\n",
       " 'how',\n",
       " 'a',\n",
       " 'government',\n",
       " 'keen',\n",
       " 'to',\n",
       " 'tackle',\n",
       " 'cancel',\n",
       " 'culture',\n",
       " 'when']"
      ]
     },
     "execution_count": 7,
     "metadata": {},
     "output_type": "execute_result"
    }
   ],
   "source": [
    "df['token'][0]"
   ]
  },
  {
   "cell_type": "markdown",
   "metadata": {},
   "source": [
    "### Remove Stop Words"
   ]
  },
  {
   "cell_type": "code",
   "execution_count": 8,
   "metadata": {},
   "outputs": [],
   "source": [
    "from nltk.corpus import stopwords"
   ]
  },
  {
   "cell_type": "code",
   "execution_count": 9,
   "metadata": {},
   "outputs": [],
   "source": [
    "sw = stopwords.words('english')\n",
    "df['token'] = df['token'].apply(lambda x:[word for word in x if word not in sw])"
   ]
  },
  {
   "cell_type": "code",
   "execution_count": 10,
   "metadata": {},
   "outputs": [
    {
     "data": {
      "text/plain": [
       "0        [silencing, blm, priti, patels, antiprotest, l...\n",
       "1        [illian42, johnbok5, nadiawhittomemp, silly, l...\n",
       "2        [errolwebber, tell, would, considered, racistd...\n",
       "3        [apple, wont, let, parler, app, still, keeps, ...\n",
       "4        [malikaandrews, wojespn, get, jlm, trending, m...\n",
       "                               ...                        \n",
       "26395    [hey, brainwashed, base, generations, im, stil...\n",
       "26396    [56blackcat, neanderthals, blm, blacklivesmatt...\n",
       "26397    [atrupar, 2, dear, jaketapper, instead, airing...\n",
       "26398    [bombshellmarjorie, greene, may, genius, behin...\n",
       "26399    [omthunkitsmind, lets, talk, white, supremacyc...\n",
       "Name: token, Length: 24329, dtype: object"
      ]
     },
     "execution_count": 10,
     "metadata": {},
     "output_type": "execute_result"
    }
   ],
   "source": [
    "df['token']"
   ]
  },
  {
   "cell_type": "markdown",
   "metadata": {},
   "source": [
    "### Create Stem Words from Token "
   ]
  },
  {
   "cell_type": "code",
   "execution_count": 11,
   "metadata": {},
   "outputs": [],
   "source": [
    "from nltk.stem.snowball import SnowballStemmer"
   ]
  },
  {
   "cell_type": "code",
   "execution_count": 12,
   "metadata": {},
   "outputs": [],
   "source": [
    "stemmer = SnowballStemmer(\"english\", ignore_stopwords=True)\n",
    "df['stem'] =  df['token'].apply(lambda x: [stemmer.stem(i) for i in x])"
   ]
  },
  {
   "cell_type": "code",
   "execution_count": 13,
   "metadata": {},
   "outputs": [
    {
     "data": {
      "text/plain": [
       "['silenc',\n",
       " 'blm',\n",
       " 'priti',\n",
       " 'patel',\n",
       " 'antiprotest',\n",
       " 'law',\n",
       " 'iandunt',\n",
       " 'govern',\n",
       " 'keen',\n",
       " 'tackl',\n",
       " 'cancel',\n",
       " 'cultur']"
      ]
     },
     "execution_count": 13,
     "metadata": {},
     "output_type": "execute_result"
    }
   ],
   "source": [
    "df['stem'][0]"
   ]
  },
  {
   "cell_type": "markdown",
   "metadata": {},
   "source": [
    "### Pipelines"
   ]
  },
  {
   "cell_type": "code",
   "execution_count": 14,
   "metadata": {},
   "outputs": [
    {
     "data": {
      "text/html": [
       "<div>\n",
       "<style scoped>\n",
       "    .dataframe tbody tr th:only-of-type {\n",
       "        vertical-align: middle;\n",
       "    }\n",
       "\n",
       "    .dataframe tbody tr th {\n",
       "        vertical-align: top;\n",
       "    }\n",
       "\n",
       "    .dataframe thead th {\n",
       "        text-align: right;\n",
       "    }\n",
       "</style>\n",
       "<table border=\"1\" class=\"dataframe\">\n",
       "  <thead>\n",
       "    <tr style=\"text-align: right;\">\n",
       "      <th></th>\n",
       "      <th>tweet</th>\n",
       "      <th>label</th>\n",
       "      <th>token</th>\n",
       "      <th>stem</th>\n",
       "      <th>stem_full</th>\n",
       "    </tr>\n",
       "  </thead>\n",
       "  <tbody>\n",
       "    <tr>\n",
       "      <th>0</th>\n",
       "      <td>silencing blm  priti patels antiprotest law  i...</td>\n",
       "      <td>BLM</td>\n",
       "      <td>[silencing, blm, priti, patels, antiprotest, l...</td>\n",
       "      <td>[silenc, blm, priti, patel, antiprotest, law, ...</td>\n",
       "      <td>silenc blm priti patel antiprotest law iandunt...</td>\n",
       "    </tr>\n",
       "    <tr>\n",
       "      <th>1</th>\n",
       "      <td>illian42 johnbok5 nadiawhittomemp silly little...</td>\n",
       "      <td>BLM</td>\n",
       "      <td>[illian42, johnbok5, nadiawhittomemp, silly, l...</td>\n",
       "      <td>[illian42, johnbok5, nadiawhittomemp, silli, l...</td>\n",
       "      <td>illian42 johnbok5 nadiawhittomemp silli littl ...</td>\n",
       "    </tr>\n",
       "    <tr>\n",
       "      <th>2</th>\n",
       "      <td>errolwebber tell me would this be considered r...</td>\n",
       "      <td>BLM</td>\n",
       "      <td>[errolwebber, tell, would, considered, racistd...</td>\n",
       "      <td>[errolwebb, tell, would, consid, racistdo, peo...</td>\n",
       "      <td>errolwebb tell would consid racistdo peopl sup...</td>\n",
       "    </tr>\n",
       "    <tr>\n",
       "      <th>3</th>\n",
       "      <td>apple wont let parler have an app but still ke...</td>\n",
       "      <td>BLM</td>\n",
       "      <td>[apple, wont, let, parler, app, still, keeps, ...</td>\n",
       "      <td>[appl, wont, let, parler, app, still, keep, tw...</td>\n",
       "      <td>appl wont let parler app still keep twitter al...</td>\n",
       "    </tr>\n",
       "    <tr>\n",
       "      <th>4</th>\n",
       "      <td>malikaandrews wojespn can we get jlm trending ...</td>\n",
       "      <td>BLM</td>\n",
       "      <td>[malikaandrews, wojespn, get, jlm, trending, m...</td>\n",
       "      <td>[malikaandrew, wojespn, get, jlm, trend, mayb,...</td>\n",
       "      <td>malikaandrew wojespn get jlm trend mayb nba pu...</td>\n",
       "    </tr>\n",
       "    <tr>\n",
       "      <th>...</th>\n",
       "      <td>...</td>\n",
       "      <td>...</td>\n",
       "      <td>...</td>\n",
       "      <td>...</td>\n",
       "      <td>...</td>\n",
       "    </tr>\n",
       "    <tr>\n",
       "      <th>26395</th>\n",
       "      <td>hey have brainwashed their base for generation...</td>\n",
       "      <td>Riots</td>\n",
       "      <td>[hey, brainwashed, base, generations, im, stil...</td>\n",
       "      <td>[hey, brainwash, base, generat, im, still, pis...</td>\n",
       "      <td>hey brainwash base generat im still piss trick...</td>\n",
       "    </tr>\n",
       "    <tr>\n",
       "      <th>26396</th>\n",
       "      <td>56blackcat these neanderthals were there for b...</td>\n",
       "      <td>Riots</td>\n",
       "      <td>[56blackcat, neanderthals, blm, blacklivesmatt...</td>\n",
       "      <td>[56blackcat, neanderth, blm, blacklivesmatt, c...</td>\n",
       "      <td>56blackcat neanderth blm blacklivesmatt capito...</td>\n",
       "    </tr>\n",
       "    <tr>\n",
       "      <th>26397</th>\n",
       "      <td>atrupar 2 dear jaketapper instead of airing ta...</td>\n",
       "      <td>Riots</td>\n",
       "      <td>[atrupar, 2, dear, jaketapper, instead, airing...</td>\n",
       "      <td>[atrupar, 2, dear, jaketapp, instead, air, tat...</td>\n",
       "      <td>atrupar 2 dear jaketapp instead air tatereev a...</td>\n",
       "    </tr>\n",
       "    <tr>\n",
       "      <th>26398</th>\n",
       "      <td>his is a bombshellmarjorie greene may have bee...</td>\n",
       "      <td>Riots</td>\n",
       "      <td>[bombshellmarjorie, greene, may, genius, behin...</td>\n",
       "      <td>[bombshellmarjori, green, may, genius, behind,...</td>\n",
       "      <td>bombshellmarjori green may genius behind storm...</td>\n",
       "    </tr>\n",
       "    <tr>\n",
       "      <th>26399</th>\n",
       "      <td>omthunkitsmind lets talk about white supremacy...</td>\n",
       "      <td>Riots</td>\n",
       "      <td>[omthunkitsmind, lets, talk, white, supremacyc...</td>\n",
       "      <td>[omthunkitsmind, let, talk, white, supremacyca...</td>\n",
       "      <td>omthunkitsmind let talk white supremacycapitol...</td>\n",
       "    </tr>\n",
       "  </tbody>\n",
       "</table>\n",
       "<p>24329 rows × 5 columns</p>\n",
       "</div>"
      ],
      "text/plain": [
       "                                                   tweet  label  \\\n",
       "0      silencing blm  priti patels antiprotest law  i...    BLM   \n",
       "1      illian42 johnbok5 nadiawhittomemp silly little...    BLM   \n",
       "2      errolwebber tell me would this be considered r...    BLM   \n",
       "3      apple wont let parler have an app but still ke...    BLM   \n",
       "4      malikaandrews wojespn can we get jlm trending ...    BLM   \n",
       "...                                                  ...    ...   \n",
       "26395  hey have brainwashed their base for generation...  Riots   \n",
       "26396  56blackcat these neanderthals were there for b...  Riots   \n",
       "26397  atrupar 2 dear jaketapper instead of airing ta...  Riots   \n",
       "26398  his is a bombshellmarjorie greene may have bee...  Riots   \n",
       "26399  omthunkitsmind lets talk about white supremacy...  Riots   \n",
       "\n",
       "                                                   token  \\\n",
       "0      [silencing, blm, priti, patels, antiprotest, l...   \n",
       "1      [illian42, johnbok5, nadiawhittomemp, silly, l...   \n",
       "2      [errolwebber, tell, would, considered, racistd...   \n",
       "3      [apple, wont, let, parler, app, still, keeps, ...   \n",
       "4      [malikaandrews, wojespn, get, jlm, trending, m...   \n",
       "...                                                  ...   \n",
       "26395  [hey, brainwashed, base, generations, im, stil...   \n",
       "26396  [56blackcat, neanderthals, blm, blacklivesmatt...   \n",
       "26397  [atrupar, 2, dear, jaketapper, instead, airing...   \n",
       "26398  [bombshellmarjorie, greene, may, genius, behin...   \n",
       "26399  [omthunkitsmind, lets, talk, white, supremacyc...   \n",
       "\n",
       "                                                    stem  \\\n",
       "0      [silenc, blm, priti, patel, antiprotest, law, ...   \n",
       "1      [illian42, johnbok5, nadiawhittomemp, silli, l...   \n",
       "2      [errolwebb, tell, would, consid, racistdo, peo...   \n",
       "3      [appl, wont, let, parler, app, still, keep, tw...   \n",
       "4      [malikaandrew, wojespn, get, jlm, trend, mayb,...   \n",
       "...                                                  ...   \n",
       "26395  [hey, brainwash, base, generat, im, still, pis...   \n",
       "26396  [56blackcat, neanderth, blm, blacklivesmatt, c...   \n",
       "26397  [atrupar, 2, dear, jaketapp, instead, air, tat...   \n",
       "26398  [bombshellmarjori, green, may, genius, behind,...   \n",
       "26399  [omthunkitsmind, let, talk, white, supremacyca...   \n",
       "\n",
       "                                               stem_full  \n",
       "0      silenc blm priti patel antiprotest law iandunt...  \n",
       "1      illian42 johnbok5 nadiawhittomemp silli littl ...  \n",
       "2      errolwebb tell would consid racistdo peopl sup...  \n",
       "3      appl wont let parler app still keep twitter al...  \n",
       "4      malikaandrew wojespn get jlm trend mayb nba pu...  \n",
       "...                                                  ...  \n",
       "26395  hey brainwash base generat im still piss trick...  \n",
       "26396  56blackcat neanderth blm blacklivesmatt capito...  \n",
       "26397  atrupar 2 dear jaketapp instead air tatereev a...  \n",
       "26398  bombshellmarjori green may genius behind storm...  \n",
       "26399  omthunkitsmind let talk white supremacycapitol...  \n",
       "\n",
       "[24329 rows x 5 columns]"
      ]
     },
     "execution_count": 14,
     "metadata": {},
     "output_type": "execute_result"
    }
   ],
   "source": [
    "df['stem_full'] = df['stem'].apply(lambda x: ' '.join(x))\n",
    "df"
   ]
  },
  {
   "cell_type": "markdown",
   "metadata": {},
   "source": [
    "Create a new column, concatenating all stemmed tweets"
   ]
  },
  {
   "cell_type": "code",
   "execution_count": 15,
   "metadata": {},
   "outputs": [],
   "source": [
    "df['stem_full'] = df['stem'].apply(lambda x: ' '.join(x))"
   ]
  },
  {
   "cell_type": "code",
   "execution_count": 16,
   "metadata": {},
   "outputs": [],
   "source": [
    "y = [i for i in df['label']]"
   ]
  },
  {
   "cell_type": "code",
   "execution_count": 17,
   "metadata": {},
   "outputs": [
    {
     "data": {
      "text/plain": [
       "['silenc blm priti patel antiprotest law iandunt govern keen tackl cancel cultur',\n",
       " 'illian42 johnbok5 nadiawhittomemp silli littl woke lefti most harmless rebel scum gamer intersectio',\n",
       " 'errolwebb tell would consid racistdo peopl support blm think ok',\n",
       " 'appl wont let parler app still keep twitter allow manner provok violenc vario',\n",
       " 'malikaandrew wojespn get jlm trend mayb nba put bball court jer',\n",
       " 'alexberesfordtv werent order pleas dont silenc voic hate bigot',\n",
       " 'mom problem help mam bbc bbcslut nude sext cum cumshot creampi blm horni gangbang',\n",
       " 'spyoutub amaz chat cincinnati health report ann saker spsaker annesak chat covid vaccin amidtheflow repo',\n",
       " 'chrisshipitv recollect headlin clear racist racist citizen vocal given voic',\n",
       " 'nagivatorjan widehop nickpy blm enter uk biggest racist go']"
      ]
     },
     "execution_count": 17,
     "metadata": {},
     "output_type": "execute_result"
    }
   ],
   "source": [
    "corpus = [i for i in df['stem_full']]\n",
    "corpus[:10]"
   ]
  },
  {
   "cell_type": "code",
   "execution_count": 18,
   "metadata": {},
   "outputs": [
    {
     "data": {
      "text/plain": [
       "(24329, 39220)"
      ]
     },
     "execution_count": 18,
     "metadata": {},
     "output_type": "execute_result"
    }
   ],
   "source": [
    "# Count Vectorizer\n",
    "from sklearn.feature_extraction.text import CountVectorizer\n",
    "count_vect = CountVectorizer()\n",
    "X_train_counts = count_vect.fit_transform(corpus)\n",
    "X_train_counts.shape"
   ]
  },
  {
   "cell_type": "code",
   "execution_count": 19,
   "metadata": {},
   "outputs": [
    {
     "data": {
      "text/plain": [
       "(24329, 39220)"
      ]
     },
     "execution_count": 19,
     "metadata": {},
     "output_type": "execute_result"
    }
   ],
   "source": [
    "# TF-IDF\n",
    "from sklearn.feature_extraction.text import TfidfTransformer\n",
    "tfidf_transformer = TfidfTransformer()\n",
    "X_train_tfidf = tfidf_transformer.fit_transform(X_train_counts)\n",
    "X_train_tfidf.shape"
   ]
  },
  {
   "cell_type": "code",
   "execution_count": 20,
   "metadata": {},
   "outputs": [],
   "source": [
    "# Machine Learning\n",
    "# Training Naive Bayes (NB) classifier on training data.\n",
    "from sklearn.naive_bayes import MultinomialNB\n",
    "clf = MultinomialNB().fit(X_train_tfidf, y)"
   ]
  },
  {
   "cell_type": "code",
   "execution_count": 21,
   "metadata": {},
   "outputs": [],
   "source": [
    "# Building a pipeline: We can write less code and do all of the above, by building a pipeline as follows:\n",
    "# The names ‘vect’ , ‘tfidf’ and ‘clf’ are arbitrary but will be used later.\n",
    "# We will be using the 'text_clf' going forward.\n",
    "from sklearn.pipeline import Pipeline\n",
    "\n",
    "text_clf = Pipeline([('vect', CountVectorizer()), ('tfidf', TfidfTransformer()), ('clf', MultinomialNB())])\n",
    "\n",
    "text_clf = text_clf.fit(corpus, y)"
   ]
  },
  {
   "cell_type": "markdown",
   "metadata": {},
   "source": [
    "### Check performance\n",
    "\n",
    "Use `train_test_split` with training labels"
   ]
  },
  {
   "cell_type": "code",
   "execution_count": 22,
   "metadata": {},
   "outputs": [],
   "source": [
    "from sklearn.model_selection import train_test_split\n",
    "X_train, X_test, y_train, y_test = train_test_split(corpus, y, test_size=0.33, random_state=42)"
   ]
  },
  {
   "cell_type": "code",
   "execution_count": 23,
   "metadata": {},
   "outputs": [
    {
     "name": "stdout",
     "output_type": "stream",
     "text": [
      "accuracy 0.882799850541786\n",
      "              precision    recall  f1-score   support\n",
      "\n",
      "         BLM       0.96      0.84      0.90      1631\n",
      "       Trump       0.87      0.83      0.85      1080\n",
      "       Biden       0.82      1.00      0.90      2851\n",
      "       Covid       0.98      0.88      0.93      1376\n",
      "       Riots       0.89      0.70      0.79      1091\n",
      "\n",
      "    accuracy                           0.88      8029\n",
      "   macro avg       0.90      0.85      0.87      8029\n",
      "weighted avg       0.89      0.88      0.88      8029\n",
      "\n"
     ]
    }
   ],
   "source": [
    "from sklearn.metrics import accuracy_score, confusion_matrix, classification_report\n",
    "y_pred = text_clf.predict(X_test)\n",
    "print('accuracy %s' % accuracy_score(y_pred, y_test))\n",
    "print(classification_report(y_test, y_pred,target_names=tags))"
   ]
  },
  {
   "cell_type": "code",
   "execution_count": 24,
   "metadata": {},
   "outputs": [
    {
     "data": {
      "text/plain": [
       "0.882799850541786"
      ]
     },
     "execution_count": 24,
     "metadata": {},
     "output_type": "execute_result"
    }
   ],
   "source": [
    "predicted = text_clf.predict(X_test)\n",
    "np.mean(predicted == y_test)"
   ]
  }
 ],
 "metadata": {
  "kernelspec": {
   "display_name": "Python 3",
   "language": "python",
   "name": "python3"
  },
  "language_info": {
   "codemirror_mode": {
    "name": "ipython",
    "version": 3
   },
   "file_extension": ".py",
   "mimetype": "text/x-python",
   "name": "python",
   "nbconvert_exporter": "python",
   "pygments_lexer": "ipython3",
   "version": "3.7.6"
  }
 },
 "nbformat": 4,
 "nbformat_minor": 4
}
